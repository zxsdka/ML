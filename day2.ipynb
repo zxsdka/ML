{
 "cells": [
  {
   "cell_type": "code",
   "execution_count": 21,
   "metadata": {},
   "outputs": [],
   "source": [
    "import numpy as np\n",
    "path = \"Classic_machine_learning-master\\data_set\\datingTestSet.txt\""
   ]
  },
  {
   "cell_type": "code",
   "execution_count": 25,
   "metadata": {},
   "outputs": [
    {
     "name": "stdout",
     "output_type": "stream",
     "text": [
      "['largeDoses' 'smallDoses' 'didntLike' 'didntLike' 'didntLike' 'didntLike'\n",
      " 'largeDoses' 'largeDoses' 'didntLike' 'largeDoses' 'didntLike'\n",
      " 'didntLike' 'smallDoses' 'didntLike' 'didntLike' 'didntLike' 'didntLike'\n",
      " 'didntLike' 'smallDoses' 'largeDoses' 'smallDoses' 'didntLike'\n",
      " 'smallDoses' 'largeDoses' 'smallDoses' 'largeDoses' 'smallDoses'\n",
      " 'largeDoses' 'smallDoses' 'didntLike' 'largeDoses' 'didntLike'\n",
      " 'largeDoses' 'didntLike' 'smallDoses' 'didntLike' 'didntLike'\n",
      " 'smallDoses' 'largeDoses' 'largeDoses' 'didntLike' 'smallDoses'\n",
      " 'largeDoses' 'largeDoses' 'largeDoses' 'didntLike' 'didntLike'\n",
      " 'didntLike' 'didntLike' 'smallDoses' 'smallDoses' 'didntLike'\n",
      " 'largeDoses' 'smallDoses' 'smallDoses' 'smallDoses' 'smallDoses'\n",
      " 'largeDoses' 'didntLike' 'smallDoses' 'didntLike' 'smallDoses'\n",
      " 'smallDoses' 'smallDoses' 'smallDoses' 'smallDoses' 'largeDoses'\n",
      " 'smallDoses' 'largeDoses' 'didntLike' 'smallDoses' 'largeDoses'\n",
      " 'smallDoses' 'smallDoses' 'didntLike' 'largeDoses' 'didntLike'\n",
      " 'didntLike' 'largeDoses' 'largeDoses' 'didntLike' 'smallDoses'\n",
      " 'largeDoses' 'didntLike' 'largeDoses' 'didntLike' 'smallDoses'\n",
      " 'smallDoses' 'didntLike' 'didntLike' 'largeDoses' 'largeDoses'\n",
      " 'didntLike' 'smallDoses' 'didntLike' 'largeDoses' 'largeDoses'\n",
      " 'smallDoses' 'didntLike' 'didntLike' 'largeDoses' 'didntLike'\n",
      " 'smallDoses' 'largeDoses' 'largeDoses' 'smallDoses' 'largeDoses'\n",
      " 'largeDoses' 'didntLike' 'smallDoses' 'largeDoses' 'smallDoses'\n",
      " 'didntLike' 'largeDoses' 'didntLike' 'smallDoses' 'didntLike' 'didntLike'\n",
      " 'smallDoses' 'largeDoses' 'smallDoses' 'largeDoses' 'smallDoses'\n",
      " 'largeDoses' 'smallDoses' 'didntLike' 'largeDoses' 'largeDoses'\n",
      " 'largeDoses' 'didntLike' 'largeDoses' 'smallDoses' 'smallDoses'\n",
      " 'largeDoses' 'didntLike' 'largeDoses' 'largeDoses' 'largeDoses'\n",
      " 'didntLike' 'largeDoses' 'didntLike' 'didntLike' 'largeDoses'\n",
      " 'largeDoses' 'smallDoses' 'largeDoses' 'largeDoses' 'didntLike'\n",
      " 'smallDoses' 'largeDoses' 'smallDoses' 'smallDoses' 'largeDoses'\n",
      " 'largeDoses' 'largeDoses' 'didntLike' 'smallDoses' 'smallDoses'\n",
      " 'didntLike' 'didntLike' 'largeDoses' 'smallDoses' 'largeDoses'\n",
      " 'largeDoses' 'didntLike' 'smallDoses' 'didntLike' 'largeDoses'\n",
      " 'didntLike' 'smallDoses' 'largeDoses' 'smallDoses' 'largeDoses'\n",
      " 'didntLike' 'didntLike' 'didntLike' 'largeDoses' 'smallDoses'\n",
      " 'largeDoses' 'didntLike' 'largeDoses' 'smallDoses' 'didntLike'\n",
      " 'largeDoses' 'smallDoses' 'smallDoses' 'largeDoses' 'smallDoses'\n",
      " 'largeDoses' 'smallDoses' 'didntLike' 'didntLike' 'largeDoses'\n",
      " 'didntLike' 'largeDoses' 'smallDoses' 'smallDoses' 'smallDoses'\n",
      " 'largeDoses' 'smallDoses']\n"
     ]
    }
   ],
   "source": [
    "data =[]\n",
    "labels =[]\n",
    "open_file = open(path,mode='r',encoding='gbk')\n",
    "STR = open_file.read( )\n",
    "lines = STR.split('\\n')\n",
    "for line in lines [0:200]:\n",
    "    f_l = line.split('\\t')\n",
    "    x1,x2,x3,label = float(f_l[0]),float(f_l[1]),float(f_l[2]),(f_l[3])\n",
    "    data.append([x1,x2,x3])\n",
    "    labels.append(label)\n",
    "    \n",
    "data = np.array(data)\n",
    "labels =  np.array(labels)"
   ]
  },
  {
   "cell_type": "code",
   "execution_count": 26,
   "metadata": {},
   "outputs": [],
   "source": [
    "max_ =np.max(data,axis=0)\n",
    "min_ =np.min(data,axis=0)"
   ]
  },
  {
   "cell_type": "code",
   "execution_count": 27,
   "metadata": {},
   "outputs": [],
   "source": [
    "new_data =(data - min_)/(max_ - min_)"
   ]
  },
  {
   "cell_type": "code",
   "execution_count": 28,
   "metadata": {},
   "outputs": [
    {
     "data": {
      "text/plain": [
       "array([[0.52834087, 0.48692611, 0.56331011],\n",
       "       [0.18706262, 0.41830442, 0.99080585],\n",
       "       [0.33637185, 0.08431448, 0.47493847],\n",
       "       [0.97012266, 0.76880364, 0.2515808 ],\n",
       "       [0.4950807 , 0.09764209, 0.07661175],\n",
       "       [0.9424532 , 0.59304578, 0.6102208 ],\n",
       "       [0.46414461, 0.39943564, 0.71724259],\n",
       "       [0.55088444, 0.77634554, 0.31981605],\n",
       "       [0.87149128, 0.50473788, 0.44177803],\n",
       "       [0.45814074, 0.71768268, 0.89232624],\n",
       "       [0.64870239, 0.21773431, 0.49084772],\n",
       "       [0.8169787 , 0.49037051, 0.98818192],\n",
       "       [0.07190445, 0.28509469, 0.42953421],\n",
       "       [0.65916075, 0.27367221, 0.36811679],\n",
       "       [0.9989929 , 0.89465373, 0.19361979],\n",
       "       [0.56388638, 0.11048764, 0.1104497 ],\n",
       "       [0.79230471, 0.43954778, 0.75047785],\n",
       "       [0.89958683, 0.83264751, 0.15204425],\n",
       "       [0.20231117, 0.        , 0.73920843],\n",
       "       [0.3678244 , 0.61566508, 0.77166405],\n",
       "       [0.08375726, 0.20701963, 0.48524596],\n",
       "       [0.48686895, 0.17493317, 0.49203706],\n",
       "       [0.29205939, 0.30979659, 0.37588466],\n",
       "       [0.3716204 , 0.38557753, 0.10797066],\n",
       "       [0.2548612 , 0.16471213, 0.99811236],\n",
       "       [0.47499032, 0.7285059 , 0.38260095],\n",
       "       [0.07412524, 0.        , 0.98042295],\n",
       "       [0.36884442, 0.5829241 , 0.43106261],\n",
       "       [0.08790187, 0.07980992, 0.37695169],\n",
       "       [0.53726275, 0.01347591, 0.6809054 ],\n",
       "       [0.47335055, 0.6938382 , 0.52106715],\n",
       "       [0.56300839, 0.00704399, 0.79967223],\n",
       "       [0.1983215 , 0.49968715, 0.79279384],\n",
       "       [0.82370562, 0.3424719 , 0.09187793],\n",
       "       [0.13870884, 0.5652042 , 0.45920439],\n",
       "       [0.91424145, 0.57182043, 0.64059165],\n",
       "       [0.92977405, 0.28845944, 0.3721557 ],\n",
       "       [0.07635894, 0.12959663, 0.34547641],\n",
       "       [0.19174952, 0.8365327 , 0.37232849],\n",
       "       [0.43322143, 0.73632007, 0.40454957],\n",
       "       [0.58040026, 0.2002589 , 0.59332706],\n",
       "       [0.23155584, 0.        , 0.08449542],\n",
       "       [0.35814074, 0.49902164, 0.11878702],\n",
       "       [0.37817947, 0.57478896, 0.13855764],\n",
       "       [0.54654616, 0.67201412, 0.15333038],\n",
       "       [0.47035507, 0.20881501, 0.49104782],\n",
       "       [0.51159458, 0.10357387, 0.1201456 ],\n",
       "       [0.41838606, 0.20547914, 0.5858157 ],\n",
       "       [0.3520723 , 0.25718638, 0.57582232],\n",
       "       [0.07071659, 0.2500904 , 0.69448998],\n",
       "       [0.18404132, 0.34769759, 0.95538072],\n",
       "       [0.88590058, 0.80690503, 0.42699103],\n",
       "       [0.53633312, 0.60777296, 0.98476114],\n",
       "       [0.10222079, 0.1758703 , 0.17340205],\n",
       "       [0.2754164 , 0.06034334, 0.28555116],\n",
       "       [0.10765655, 0.27783065, 0.03528263],\n",
       "       [0.06683021, 0.21590817, 0.97964806],\n",
       "       [0.24510006, 0.61095989, 0.15579637],\n",
       "       [0.88879277, 0.6190117 , 0.19255455],\n",
       "       [0.17350549, 0.09382439, 0.03787805],\n",
       "       [0.63071659, 0.21516132, 0.5677718 ],\n",
       "       [0.15861846, 0.22192398, 0.4105545 ],\n",
       "       [0.10104584, 0.14805386, 0.98205883],\n",
       "       [0.07185281, 0.56916429, 0.5774386 ],\n",
       "       [0.13358296, 0.35629662, 0.83635916],\n",
       "       [0.02353777, 0.45102107, 0.62326741],\n",
       "       [0.1258102 , 0.67073806, 0.44841831],\n",
       "       [0.2176501 , 0.16879193, 0.55170995],\n",
       "       [0.50788896, 0.58793693, 0.67280322],\n",
       "       [0.84222079, 0.58314759, 0.52051255],\n",
       "       [0.03180116, 0.13658676, 0.80806358],\n",
       "       [0.35316979, 0.66517064, 0.90454215],\n",
       "       [0.209051  , 0.        , 0.35647566],\n",
       "       [0.15826985, 0.24131694, 0.20914724],\n",
       "       [0.547153  , 0.36953875, 0.62544957],\n",
       "       [0.33062621, 0.50760027, 0.04850144],\n",
       "       [1.        , 0.86873851, 0.66773944],\n",
       "       [0.7583215 , 0.14351614, 0.12891459],\n",
       "       [0.59943189, 0.42641693, 0.32262286],\n",
       "       [0.42205294, 0.51137839, 0.50594823],\n",
       "       [0.83783086, 0.50166346, 0.40245173],\n",
       "       [0.11044545, 0.14661635, 0.5129721 ],\n",
       "       [0.37264041, 0.66752844, 0.89079012],\n",
       "       [0.54293092, 0.28293722, 0.99495521],\n",
       "       [0.41566172, 0.60461036, 0.34342845],\n",
       "       [0.83789542, 0.38440445, 0.6805711 ],\n",
       "       [0.03040671, 0.3823961 , 0.27123563],\n",
       "       [0.        , 0.12918221, 0.42651125],\n",
       "       [0.909051  , 0.65471652, 0.49346571],\n",
       "       [0.74111039, 0.24732871, 0.07302352],\n",
       "       [0.53882505, 0.55586714, 0.        ],\n",
       "       [0.14756617, 0.50597453, 0.79784397],\n",
       "       [0.97185281, 1.        , 0.28824576],\n",
       "       [0.07048418, 0.46031164, 0.42300496],\n",
       "       [0.94925759, 0.48313425, 0.80539215],\n",
       "       [0.52006456, 0.52719596, 0.98169187],\n",
       "       [0.27811491, 0.5388745 , 0.47591109],\n",
       "       [0.22845707, 0.37278327, 0.01686643],\n",
       "       [0.28830213, 0.13227295, 0.60381625],\n",
       "       [0.60129116, 0.33197323, 0.41814009],\n",
       "       [0.5474887 , 0.66036756, 0.12036173],\n",
       "       [0.4345255 , 0.38535766, 0.80032777],\n",
       "       [0.11841188, 0.27553536, 0.11216217],\n",
       "       [0.36309877, 0.51272111, 0.65480564],\n",
       "       [0.4402195 , 0.67261835, 0.32053868],\n",
       "       [0.0229051 , 0.27383091, 0.34014245],\n",
       "       [0.51815365, 0.7278229 , 0.1754518 ],\n",
       "       [0.18068431, 0.75482735, 0.98119725],\n",
       "       [0.99501614, 0.73685916, 0.57552721],\n",
       "       [0.14473854, 0.22977786, 0.01199027],\n",
       "       [0.07904454, 0.57022639, 0.69875098],\n",
       "       [0.19807618, 0.17798654, 0.52424864],\n",
       "       [0.57292447, 0.25679751, 0.47611179],\n",
       "       [0.36738541, 0.68388996, 0.400057  ],\n",
       "       [0.82338283, 0.46077377, 0.08846783],\n",
       "       [0.11900581, 0.32823388, 0.55124442],\n",
       "       [0.89187863, 0.53447835, 0.50235702],\n",
       "       [0.31619109, 0.24902737, 0.11971807],\n",
       "       [0.21783086, 0.39762517, 0.72198039],\n",
       "       [0.51357005, 0.51182403, 0.28450848],\n",
       "       [0.07619109, 0.06567019, 0.69774273],\n",
       "       [0.52920594, 0.63348223, 0.93826906],\n",
       "       [0.09656553, 0.17844563, 0.0127711 ],\n",
       "       [0.5005552 , 0.31041316, 0.01508804],\n",
       "       [0.0636927 , 0.10770016, 0.01355371],\n",
       "       [0.41718528, 0.13227084, 0.95024983],\n",
       "       [0.34216914, 0.67678048, 0.6270795 ],\n",
       "       [0.48331827, 0.4700727 , 0.64047705],\n",
       "       [0.3034603 , 0.62767904, 0.05845325],\n",
       "       [0.88582311, 0.56498731, 0.20515167],\n",
       "       [0.35819238, 0.52662377, 0.32270005],\n",
       "       [0.14593932, 0.        , 0.31699617],\n",
       "       [0.        , 0.33665304, 0.62768873],\n",
       "       [0.42258231, 0.53591007, 0.96150916],\n",
       "       [0.31786959, 0.07709091, 0.84968663],\n",
       "       [0.54763073, 0.823081  , 0.41010323],\n",
       "       [0.26094254, 0.5910465 , 0.77377436],\n",
       "       [0.42898644, 0.46548405, 0.72114256],\n",
       "       [0.7034603 , 0.36940834, 0.00768119],\n",
       "       [0.23854099, 0.74054816, 0.35055801],\n",
       "       [0.43803744, 0.16996817, 0.34224741],\n",
       "       [0.5663654 , 0.13965417, 0.53955045],\n",
       "       [0.34276307, 0.35228542, 0.28557551],\n",
       "       [0.57332473, 0.4225904 , 0.74226285],\n",
       "       [0.21528728, 0.24466233, 0.75411537],\n",
       "       [0.10488057, 0.6929499 , 0.64823839],\n",
       "       [0.55193028, 0.68193225, 0.69036972],\n",
       "       [0.72374435, 0.20904885, 0.29059358],\n",
       "       [0.14116204, 0.        , 0.06068588],\n",
       "       [0.2339703 , 0.46416039, 0.53412386],\n",
       "       [0.14553906, 0.19677245, 0.5990161 ],\n",
       "       [0.21041963, 0.        , 0.21507914],\n",
       "       [0.3636927 , 0.8105131 , 0.7647916 ],\n",
       "       [0.52889606, 0.60269276, 0.71629372],\n",
       "       [0.40910265, 0.42266279, 0.39510188],\n",
       "       [0.71225307, 0.26365192, 0.61214288],\n",
       "       [0.22717883, 0.0214213 , 0.09404287],\n",
       "       [0.02404132, 0.19293744, 0.33838485],\n",
       "       [0.73708199, 0.03352338, 0.35783898],\n",
       "       [0.81448677, 0.5370259 , 0.00416064],\n",
       "       [0.66123951, 0.45860455, 0.62665732],\n",
       "       [0.08375726, 0.27781615, 0.32834278],\n",
       "       [0.06204003, 0.6688866 , 0.92099471],\n",
       "       [0.39124597, 0.48201924, 0.66355029],\n",
       "       [0.88676566, 0.46482468, 0.15829798],\n",
       "       [0.22712718, 0.46052437, 0.13170835],\n",
       "       [0.96050355, 0.55955947, 0.21351452],\n",
       "       [0.48052937, 0.45319303, 0.51292281],\n",
       "       [0.55279535, 0.        , 0.89662523],\n",
       "       [0.19029051, 0.19858538, 0.37331417],\n",
       "       [0.25688832, 0.69680228, 0.01188814],\n",
       "       [0.18945126, 0.02694317, 0.40633389],\n",
       "       [0.41331181, 0.76530515, 0.2795112 ],\n",
       "       [0.75837314, 0.26834612, 0.99003156],\n",
       "       [0.70683021, 0.4910335 , 0.9077943 ],\n",
       "       [0.38065849, 0.32528723, 1.        ],\n",
       "       [0.35762427, 0.63768728, 0.36447511],\n",
       "       [0.14774693, 0.07668749, 0.69152879],\n",
       "       [0.72455778, 0.62260118, 0.57886071],\n",
       "       [0.51018722, 0.        , 0.28302402],\n",
       "       [0.343796  , 0.49722071, 0.49022068],\n",
       "       [0.21336346, 0.02554688, 0.82538366],\n",
       "       [0.31462879, 0.35833158, 0.65132488],\n",
       "       [0.28612008, 0.70828697, 0.21044109],\n",
       "       [0.07785668, 0.07396994, 0.67472174],\n",
       "       [0.08351194, 0.35480555, 0.78484783],\n",
       "       [0.29625565, 0.46844707, 0.99540411],\n",
       "       [0.23912201, 0.22168645, 0.17742197],\n",
       "       [0.45079406, 0.68844633, 0.74659272],\n",
       "       [0.07903163, 0.48766361, 0.85391081],\n",
       "       [0.49145255, 0.14987871, 0.866176  ],\n",
       "       [0.30225952, 0.34817721, 0.56320916],\n",
       "       [0.452847  , 0.54314457, 0.45248988],\n",
       "       [0.68320207, 0.2325461 , 0.61625008],\n",
       "       [0.21692705, 0.50202753, 0.86124463],\n",
       "       [0.12308586, 0.07437799, 0.46982124],\n",
       "       [0.21589413, 0.        , 0.14102659],\n",
       "       [0.07530019, 0.        , 0.05016047],\n",
       "       [0.57573919, 0.67371646, 0.17551474],\n",
       "       [0.13096191, 0.06663001, 0.24351069]])"
      ]
     },
     "execution_count": 28,
     "metadata": {},
     "output_type": "execute_result"
    }
   ],
   "source": [
    "new_data"
   ]
  },
  {
   "cell_type": "code",
   "execution_count": 29,
   "metadata": {},
   "outputs": [],
   "source": [
    "from sklearn.model_selection import train_test_split"
   ]
  },
  {
   "cell_type": "code",
   "execution_count": 42,
   "metadata": {},
   "outputs": [],
   "source": [
    "x_train, x_test, y_train, y_test = train_test_split(new_data, labels, test_size=0.3, random_state=42)"
   ]
  },
  {
   "cell_type": "code",
   "execution_count": 43,
   "metadata": {},
   "outputs": [
    {
     "data": {
      "text/plain": [
       "(140, 3)"
      ]
     },
     "execution_count": 43,
     "metadata": {},
     "output_type": "execute_result"
    }
   ],
   "source": [
    "x_train.shape"
   ]
  },
  {
   "cell_type": "code",
   "execution_count": 44,
   "metadata": {},
   "outputs": [
    {
     "data": {
      "text/plain": [
       "(60, 3)"
      ]
     },
     "execution_count": 44,
     "metadata": {},
     "output_type": "execute_result"
    }
   ],
   "source": [
    "x_test.shape"
   ]
  },
  {
   "cell_type": "code",
   "execution_count": 45,
   "metadata": {},
   "outputs": [
    {
     "data": {
      "text/plain": [
       "(140,)"
      ]
     },
     "execution_count": 45,
     "metadata": {},
     "output_type": "execute_result"
    }
   ],
   "source": [
    "y_train.shape"
   ]
  },
  {
   "cell_type": "code",
   "execution_count": 46,
   "metadata": {},
   "outputs": [
    {
     "data": {
      "text/plain": [
       "(60,)"
      ]
     },
     "execution_count": 46,
     "metadata": {},
     "output_type": "execute_result"
    }
   ],
   "source": [
    "y_test.shape"
   ]
  },
  {
   "cell_type": "code",
   "execution_count": 54,
   "metadata": {},
   "outputs": [],
   "source": [
    "def KNN_model(x_train, x_test, y_train, y_test,K):\n",
    "    \"\"\"\n",
    "    Implementation KNN model.\n",
    "    \n",
    "    parameters:\n",
    "    ----------\n",
    "        1. X_train: train set.\n",
    "        2. X_test: test set.\n",
    "        3. y_train: train set labels.\n",
    "        4. y_test: test set labels.\n",
    "        5. K: real number, parameter of KNN model.\n",
    "        \n",
    "    Return:\n",
    "    ------\n",
    "        \n",
    "        Test set accuracy.\n",
    "    \"\"\"\n",
    "    \n",
    "    accuracy = 0\n",
    "    m,n = x_test.shape  # shape at test set .\n",
    "    \n",
    "    for i in range(m):\n",
    "        \n",
    "        data = x_test[i]\n",
    "        # calculate euclidean distance\n",
    "        Euclidean_distance = np.power(np.sum((data - x_train)**2,axis=1),0.5)\n",
    "\n",
    "        # get \"short distance\" labels.\n",
    "        sort_k = np.argsort(Euclidean_distance)[:K]  # real number of k.\n",
    "        \n",
    "        get_K_y = y_train[sort_k]\n",
    "        \n",
    "        # calculate label Probability in get_K_y.\n",
    "        prob_dict = {}\n",
    "\n",
    "        \n",
    "        for label in get_K_y:\n",
    "            if label not in prob_dict:\n",
    "                prob_dict[label] = 1\n",
    "            else:\n",
    "                prob_dict[label] += 1\n",
    "\n",
    "        predict_y = sorted(prob_dict.items(),key=lambda z:z[1],reverse=True)[0][0]\n",
    "        \n",
    "        # checking predict y is right?\n",
    "        if predict_y == y_test[i]:\n",
    "            accuracy += 1\n",
    "    \n",
    "    print('The test set accurate is {}'.format(accuracy / len(y_test)))\n",
    "    "
   ]
  },
  {
   "cell_type": "code",
   "execution_count": 59,
   "metadata": {},
   "outputs": [
    {
     "name": "stdout",
     "output_type": "stream",
     "text": [
      "The test set accurate is 0.95\n"
     ]
    }
   ],
   "source": [
    "KNN_model(x_train, x_test, y_train, y_test,5)"
   ]
  },
  {
   "cell_type": "code",
   "execution_count": null,
   "metadata": {},
   "outputs": [],
   "source": [
    "def KNN_model"
   ]
  }
 ],
 "metadata": {
  "kernelspec": {
   "display_name": "Python 3",
   "language": "python",
   "name": "python3"
  },
  "language_info": {
   "codemirror_mode": {
    "name": "ipython",
    "version": 3
   },
   "file_extension": ".py",
   "mimetype": "text/x-python",
   "name": "python",
   "nbconvert_exporter": "python",
   "pygments_lexer": "ipython3",
   "version": "3.7.3"
  }
 },
 "nbformat": 4,
 "nbformat_minor": 2
}
