{
 "cells": [
  {
   "cell_type": "code",
   "execution_count": null,
   "metadata": {},
   "outputs": [],
   "source": [
    "def KNN_Model(train_data,y_train,test_data,y_test,k):\n",
    "    #1.compute distance.\n",
    "    #2.sort,argsort.\n",
    "    #3.limit K.\n",
    "    #4.return.\n",
    "    predict_labels = []\n",
    "    for test in test_data[0:10,...]:\n",
    "        mins = train_data - test\n",
    "        distance = np.power(np.sum(np.power(mins,2),axis=1),0.5)\n",
    "        argsort = np.argsort(distance)[:K]\n",
    "        labels = Y_train[argsort]\n",
    "        bin_labels = np.bincount(labels)\n",
    "        predict = np.argmax(bin_labels)\n",
    "        predict_labels.append(predict)\n",
    "        \n",
    "        \n",
    "PREDICT = np.array(predict_labels)\n",
    "\n",
    "acc = np.sum(np.equal(PREDICT,y_test[:10])) / PREDICT.size\n",
    "print('The test accuracy is :{} %'.format(acc * 100))"
   ]
  },
  {
   "cell_type": "code",
   "execution_count": null,
   "metadata": {},
   "outputs": [],
   "source": []
  }
 ],
 "metadata": {
  "kernelspec": {
   "display_name": "Python 3",
   "language": "python",
   "name": "python3"
  },
  "language_info": {
   "codemirror_mode": {
    "name": "ipython",
    "version": 3
   },
   "file_extension": ".py",
   "mimetype": "text/x-python",
   "name": "python",
   "nbconvert_exporter": "python",
   "pygments_lexer": "ipython3",
   "version": "3.7.3"
  }
 },
 "nbformat": 4,
 "nbformat_minor": 2
}
